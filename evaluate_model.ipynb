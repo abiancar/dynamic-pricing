{
 "cells": [
  {
   "cell_type": "code",
   "execution_count": 1,
   "metadata": {},
   "outputs": [
    {
     "name": "stdout",
     "output_type": "stream",
     "text": [
      "Episode 1: Total Reward = 228.68360835660386\n",
      "Average prices:  41.569008\n",
      "Episode 2: Total Reward = 228.68360835660386\n",
      "Average prices:  41.569008\n",
      "Episode 3: Total Reward = 228.68360835660386\n",
      "Average prices:  41.569008\n",
      "Episode 4: Total Reward = 228.68360835660386\n",
      "Average prices:  41.569008\n",
      "Episode 5: Total Reward = 228.68360835660386\n",
      "Average prices:  41.569008\n",
      "Episode 6: Total Reward = 228.68360835660386\n",
      "Average prices:  41.569008\n",
      "Episode 7: Total Reward = 228.68360835660386\n",
      "Average prices:  41.569008\n",
      "Episode 8: Total Reward = 228.68360835660386\n",
      "Average prices:  41.569008\n",
      "Episode 9: Total Reward = 228.68360835660386\n",
      "Average prices:  41.569008\n",
      "Episode 10: Total Reward = 228.68360835660386\n",
      "Average prices:  41.569008\n",
      "Episode 11: Total Reward = 228.68360835660386\n",
      "Average prices:  41.569008\n"
     ]
    }
   ],
   "source": [
    "from stable_baselines3 import PPO\n",
    "import gymnasium as gym\n",
    "from env.env import CustomEnv  # Import your custom environment class\n",
    "import numpy as np\n",
    "\n",
    "# Load the trained model\n",
    "model = PPO.load(\"ppo_railpricing\")\n",
    "\n",
    "# Create the environment\n",
    "env = CustomEnv()\n",
    "\n",
    "def evaluate_model(model, env, num_episodes=1000):\n",
    "    episode_rewards = []\n",
    "    for episode in range(num_episodes):\n",
    "        obs,info = env.reset()\n",
    "        done = False\n",
    "        total_reward = 0\n",
    "        while not done:\n",
    "            action, obs = model.predict(obs)\n",
    "            obs, reward, done, truncat, info = env.step(action)\n",
    "            total_reward += reward\n",
    "        episode_rewards.append(total_reward)\n",
    "        print(f\"Episode {episode + 1}: Total Reward = {total_reward}\")\n",
    "        print(f\"Average prices: \", np.mean(action))\n",
    "        print(\"Prices:\", action)\n",
    "    return episode_rewards\n",
    "\n",
    "# Evaluate the model\n",
    "rewards = evaluate_model(model, env)\n",
    "\n",
    "\n"
   ]
  },
  {
   "cell_type": "code",
   "execution_count": 1,
   "metadata": {},
   "outputs": [
    {
     "name": "stdout",
     "output_type": "stream",
     "text": [
      "Episode 1: Total Reward = 1156.718145363174\n",
      "Episode 2: Total Reward = 1156.718145363174\n",
      "Episode 3: Total Reward = 1156.718145363174\n",
      "Episode 4: Total Reward = 1156.718145363174\n",
      "Episode 5: Total Reward = 1156.718145363174\n",
      "Episode 6: Total Reward = 1156.718145363174\n",
      "Episode 7: Total Reward = 1156.718145363174\n",
      "Episode 8: Total Reward = 1156.718145363174\n",
      "Episode 9: Total Reward = 1156.718145363174\n",
      "Episode 10: Total Reward = 1156.718145363174\n",
      "Episode 11: Total Reward = 1156.718145363174\n"
     ]
    }
   ],
   "source": [
    "from stable_baselines3 import PPO\n",
    "import gymnasium as gym\n",
    "from env.env import CustomEnv  # Import your custom environment class\n",
    "\n",
    "\n",
    "env = CustomEnv()\n",
    "\n",
    "# Initialize a PPO model\n",
    "model = PPO(\n",
    "    \"MlpPolicy\",\n",
    "    env,\n",
    "    learning_rate=0.03,\n",
    "    n_steps=10,\n",
    "    batch_size=10,\n",
    "    n_epochs=10,\n",
    "    gamma=0.01,\n",
    "    gae_lambda=0.95,\n",
    "    clip_range=0.9,\n",
    "    clip_range_vf=None,\n",
    "    ent_coef=0.3,\n",
    "    vf_coef=0.5,\n",
    "    max_grad_norm=0.5,\n",
    "    use_sde=False,\n",
    "    sde_sample_freq=-1,\n",
    "    target_kl=None,\n",
    "    tensorboard_log=None,\n",
    "    verbose=0,\n",
    "    seed=None,\n",
    "    device=\"auto\",\n",
    "    _init_setup_model=True,\n",
    ")\n",
    "# Create the environment\n",
    "\n",
    "\n",
    "def evaluate_model(model, env, num_episodes=1000):\n",
    "    episode_rewards = []\n",
    "    for episode in range(num_episodes):\n",
    "        obs,info = env.reset()\n",
    "        done = False\n",
    "        total_reward = 0\n",
    "        while not done:\n",
    "            action, _states = model.predict(obs, deterministic=True)\n",
    "            obs, reward, done, truncat, info = env.step(action)\n",
    "            total_reward += reward\n",
    "        episode_rewards.append(total_reward)\n",
    "        print(f\"Episode {episode + 1}: Total Reward = {total_reward}\")\n",
    "    return episode_rewards\n",
    "\n",
    "# Evaluate the model\n",
    "rewards = evaluate_model(model, env)\n"
   ]
  },
  {
   "cell_type": "code",
   "execution_count": null,
   "metadata": {},
   "outputs": [],
   "source": []
  }
 ],
 "metadata": {
  "kernelspec": {
   "display_name": ".venv",
   "language": "python",
   "name": "python3"
  },
  "language_info": {
   "codemirror_mode": {
    "name": "ipython",
    "version": 3
   },
   "file_extension": ".py",
   "mimetype": "text/x-python",
   "name": "python",
   "nbconvert_exporter": "python",
   "pygments_lexer": "ipython3",
   "version": "3.9.7"
  }
 },
 "nbformat": 4,
 "nbformat_minor": 2
}
