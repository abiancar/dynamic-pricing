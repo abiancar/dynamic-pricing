{
 "cells": [
  {
   "cell_type": "markdown",
   "metadata": {},
   "source": [
    "# Understanding how our models behave"
   ]
  },
  {
   "cell_type": "code",
   "execution_count": 2,
   "metadata": {},
   "outputs": [
    {
     "ename": "TypeError",
     "evalue": "step() missing 1 required positional argument: 'action'",
     "output_type": "error",
     "traceback": [
      "\u001b[0;31m---------------------------------------------------------------------------\u001b[0m",
      "\u001b[0;31mTypeError\u001b[0m                                 Traceback (most recent call last)",
      "Cell \u001b[0;32mIn[2], line 11\u001b[0m\n\u001b[1;32m      8\u001b[0m gas_deviations \u001b[38;5;241m=\u001b[39m []\n\u001b[1;32m     10\u001b[0m \u001b[38;5;28;01mfor\u001b[39;00m i \u001b[38;5;129;01min\u001b[39;00m \u001b[38;5;28mrange\u001b[39m(\u001b[38;5;241m3650\u001b[39m):    \n\u001b[0;32m---> 11\u001b[0m     \u001b[43menv\u001b[49m\u001b[38;5;241;43m.\u001b[39;49m\u001b[43mstep\u001b[49m\u001b[43m(\u001b[49m\u001b[43m)\u001b[49m\n\u001b[1;32m     12\u001b[0m     \u001b[38;5;66;03m# change = (philly.gas_prices - philly.base_gas_prices) / philly.base_gas_prices * 100\u001b[39;00m\n\u001b[1;32m     13\u001b[0m     \u001b[38;5;66;03m# gas_deviations.append(change)\u001b[39;00m\n\u001b[1;32m     14\u001b[0m     gas_prices\u001b[38;5;241m.\u001b[39mappend(philly\u001b[38;5;241m.\u001b[39mgas_prices)\n",
      "\u001b[0;31mTypeError\u001b[0m: step() missing 1 required positional argument: 'action'"
     ]
    }
   ],
   "source": [
    "import numpy as np\n",
    "from env.env import CustomEnv as Env\n",
    "\n",
    "env = Env()\n",
    "philly = env.get_city(\"Philadelphia\")\n",
    "\n",
    "gas_prices = []\n",
    "gas_deviations = []\n",
    "\n",
    "for i in range(36500):    \n",
    "    env.step()\n",
    "    # change = (philly.gas_prices - philly.base_gas_prices) / philly.base_gas_prices * 100\n",
    "    # gas_deviations.append(change)\n",
    "    gas_prices.append(philly.gas_prices)\n",
    "    \n",
    "    \n",
    "\n",
    "# print(np.mean(gas_deviations))\n",
    "print(np.mean(gas_prices))"
   ]
  },
  {
   "cell_type": "code",
   "execution_count": 1,
   "metadata": {},
   "outputs": [
    {
     "ename": "NameError",
     "evalue": "name 'gas_prices' is not defined",
     "output_type": "error",
     "traceback": [
      "\u001b[0;31m---------------------------------------------------------------------------\u001b[0m",
      "\u001b[0;31mNameError\u001b[0m                                 Traceback (most recent call last)",
      "Cell \u001b[0;32mIn[1], line 2\u001b[0m\n\u001b[1;32m      1\u001b[0m \u001b[38;5;28;01mimport\u001b[39;00m \u001b[38;5;21;01mmatplotlib\u001b[39;00m\u001b[38;5;21;01m.\u001b[39;00m\u001b[38;5;21;01mpyplot\u001b[39;00m \u001b[38;5;28;01mas\u001b[39;00m \u001b[38;5;21;01mplt\u001b[39;00m\n\u001b[0;32m----> 2\u001b[0m plt\u001b[38;5;241m.\u001b[39mplot(\u001b[43mgas_prices\u001b[49m)\n",
      "\u001b[0;31mNameError\u001b[0m: name 'gas_prices' is not defined"
     ]
    }
   ],
   "source": [
    "import matplotlib.pyplot as plt\n",
    "plt.plot(gas_prices)"
   ]
  },
  {
   "cell_type": "code",
   "execution_count": 20,
   "metadata": {},
   "outputs": [
    {
     "ename": "AttributeError",
     "evalue": "'tuple' object has no attribute 'origin'",
     "output_type": "error",
     "traceback": [
      "\u001b[0;31m---------------------------------------------------------------------------\u001b[0m",
      "\u001b[0;31mAttributeError\u001b[0m                            Traceback (most recent call last)",
      "Cell \u001b[0;32mIn[20], line 11\u001b[0m\n\u001b[1;32m      9\u001b[0m \u001b[38;5;28;01mfor\u001b[39;00m i \u001b[38;5;129;01min\u001b[39;00m \u001b[38;5;28mrange\u001b[39m(\u001b[38;5;241m100\u001b[39m):\n\u001b[1;32m     10\u001b[0m     x \u001b[38;5;241m=\u001b[39m random\u001b[38;5;241m.\u001b[39mchoice(possible_trip_combinations)\n\u001b[0;32m---> 11\u001b[0m     \u001b[38;5;28mprint\u001b[39m(\u001b[43mx\u001b[49m\u001b[38;5;241;43m.\u001b[39;49m\u001b[43morigin\u001b[49m, x\u001b[38;5;241m.\u001b[39mdestination)\n",
      "\u001b[0;31mAttributeError\u001b[0m: 'tuple' object has no attribute 'origin'"
     ]
    }
   ],
   "source": [
    "from env.env import Env\n",
    "import itertools\n",
    "import random\n",
    "e = Env()\n",
    "\n",
    "possible_trip_combinations = list(itertools.combinations(env.cities, 2))\n",
    "\n",
    "\n",
    "for i in range(100):\n",
    "    x = random.choice(possible_trip_combinations)\n",
    "    print(x.origin, x.destination)"
   ]
  }
 ],
 "metadata": {
  "kernelspec": {
   "display_name": "dynamic_pricing",
   "language": "python",
   "name": "python3"
  },
  "language_info": {
   "codemirror_mode": {
    "name": "ipython",
    "version": 3
   },
   "file_extension": ".py",
   "mimetype": "text/x-python",
   "name": "python",
   "nbconvert_exporter": "python",
   "pygments_lexer": "ipython3",
   "version": "3.9.7"
  }
 },
 "nbformat": 4,
 "nbformat_minor": 2
}
