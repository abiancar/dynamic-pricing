{
 "cells": [
  {
   "cell_type": "code",
   "execution_count": 5,
   "metadata": {},
   "outputs": [
    {
     "name": "stdout",
     "output_type": "stream",
     "text": [
      "Using cpu device\n",
      "Wrapping the env with a `Monitor` wrapper\n",
      "Wrapping the env in a DummyVecEnv.\n",
      "Episode 1: Total Reward = 0.0\n",
      "Episode 2: Total Reward = 0.0\n",
      "Episode 3: Total Reward = 0.0\n"
     ]
    }
   ],
   "source": [
    "from stable_baselines3 import PPO\n",
    "from env.env import CustomEnv\n",
    "\n",
    "def test_scores():\n",
    "    env = CustomEnv()\n",
    "\n",
    "    model = PPO(\n",
    "        \"MlpPolicy\",\n",
    "        env,\n",
    "        learning_rate=0.03,\n",
    "        n_steps=10,\n",
    "        batch_size=10,\n",
    "        n_epochs=10,\n",
    "        gamma=0.01,\n",
    "        gae_lambda=0.95,\n",
    "        clip_range=0.9,\n",
    "        clip_range_vf=None,\n",
    "        ent_coef=0.3,\n",
    "        vf_coef=0.5,\n",
    "        max_grad_norm=0.5,\n",
    "        use_sde=False,\n",
    "        sde_sample_freq=-1,\n",
    "        target_kl=None,\n",
    "        tensorboard_log=None,\n",
    "        verbose=2,\n",
    "        seed=None,\n",
    "        device=\"auto\",\n",
    "        _init_setup_model=True,\n",
    "    )\n",
    "\n",
    "    episode_scores = []\n",
    "\n",
    "    for episode in range(300):\n",
    "        obs, info = env.reset()  # Reset the environment at the start of each episode\n",
    "        total_reward = 0\n",
    "\n",
    "        for step in range(365):  # Assume each episode has 365 steps\n",
    "            action, _states = model.predict(obs, deterministic=True)\n",
    "            obs, reward, done,trunc, _info = env.step(action)  # Perform a step\n",
    "            total_reward += reward  # Accumulate rewards\n",
    "\n",
    "            if done:  # Check if the episode is done\n",
    "                break\n",
    "\n",
    "        print(f\"Episode {episode + 1}: Total Reward = {total_reward}\")\n",
    "        episode_scores.append(total_reward)\n",
    "\n",
    "    return episode_scores\n",
    "\n",
    "# Execute the function to test the model\n",
    "scores = test_scores()"
   ]
  },
  {
   "cell_type": "code",
   "execution_count": 1,
   "metadata": {},
   "outputs": [
    {
     "name": "stdout",
     "output_type": "stream",
     "text": [
      "Using cpu device\n",
      "Wrapping the env with a `Monitor` wrapper\n",
      "Wrapping the env in a DummyVecEnv.\n"
     ]
    },
    {
     "ename": "TypeError",
     "evalue": "Value after * must be an iterable, not int",
     "output_type": "error",
     "traceback": [
      "\u001b[0;31m---------------------------------------------------------------------------\u001b[0m",
      "\u001b[0;31mTypeError\u001b[0m                                 Traceback (most recent call last)",
      "Cell \u001b[0;32mIn[1], line 53\u001b[0m\n\u001b[1;32m     50\u001b[0m     \u001b[38;5;28;01mreturn\u001b[39;00m episode_scores\n\u001b[1;32m     52\u001b[0m \u001b[38;5;66;03m# Execute the function to test the model\u001b[39;00m\n\u001b[0;32m---> 53\u001b[0m scores \u001b[38;5;241m=\u001b[39m \u001b[43mtest_scores\u001b[49m\u001b[43m(\u001b[49m\u001b[43m)\u001b[49m\n",
      "Cell \u001b[0;32mIn[1], line 36\u001b[0m, in \u001b[0;36mtest_scores\u001b[0;34m()\u001b[0m\n\u001b[1;32m     34\u001b[0m \u001b[38;5;28;01mfor\u001b[39;00m episode \u001b[38;5;129;01min\u001b[39;00m \u001b[38;5;28mrange\u001b[39m(\u001b[38;5;241m300\u001b[39m):\n\u001b[1;32m     35\u001b[0m     obs, info \u001b[38;5;241m=\u001b[39m env\u001b[38;5;241m.\u001b[39mreset()  \u001b[38;5;66;03m# Reset the environment at the start of each episode\u001b[39;00m\n\u001b[0;32m---> 36\u001b[0m     action \u001b[38;5;241m=\u001b[39mnp\u001b[38;5;241m.\u001b[39marray([episode, \u001b[38;5;241m*\u001b[39m\u001b[38;5;241m10\u001b[39m],dtype\u001b[38;5;241m=\u001b[39mnp\u001b[38;5;241m.\u001b[39mfloat32)\n\u001b[1;32m     37\u001b[0m     total_reward \u001b[38;5;241m=\u001b[39m \u001b[38;5;241m0\u001b[39m\n\u001b[1;32m     39\u001b[0m     \u001b[38;5;28;01mfor\u001b[39;00m step \u001b[38;5;129;01min\u001b[39;00m \u001b[38;5;28mrange\u001b[39m(\u001b[38;5;241m365\u001b[39m):  \u001b[38;5;66;03m# Assume each episode has 365 steps\u001b[39;00m\n\u001b[1;32m     40\u001b[0m         \u001b[38;5;66;03m# action, _states = model.predict(obs, deterministic=True)\u001b[39;00m\n",
      "\u001b[0;31mTypeError\u001b[0m: Value after * must be an iterable, not int"
     ]
    }
   ],
   "source": [
    "from stable_baselines3 import PPO\n",
    "from env.env import CustomEnv\n",
    "import numpy as np\n",
    "\n",
    "def test_scores():\n",
    "    env = CustomEnv()\n",
    "\n",
    "    model = PPO(\n",
    "        \"MlpPolicy\",\n",
    "        env,\n",
    "        learning_rate=0.03,\n",
    "        n_steps=10,\n",
    "        batch_size=10,\n",
    "        n_epochs=10,\n",
    "        gamma=0.01,\n",
    "        gae_lambda=0.95,\n",
    "        clip_range=0.9,\n",
    "        clip_range_vf=None,\n",
    "        ent_coef=0.3,\n",
    "        vf_coef=0.5,\n",
    "        max_grad_norm=0.5,\n",
    "        use_sde=False,\n",
    "        sde_sample_freq=-1,\n",
    "        target_kl=None,\n",
    "        tensorboard_log=None,\n",
    "        verbose=2,\n",
    "        seed=None,\n",
    "        device=\"auto\",\n",
    "        _init_setup_model=True,\n",
    "    )\n",
    "\n",
    "    episode_scores = []\n",
    "\n",
    "    for episode in range(300):\n",
    "        obs, info = env.reset()  # Reset the environment at the start of each episode\n",
    "        action =np.array([episode for i in range(10)],dtype=np.float32)\n",
    "        total_reward = 0\n",
    "\n",
    "        for step in range(365):  # Assume each episode has 365 steps\n",
    "            # action, _states = model.predict(obs, deterministic=True)\n",
    "            obs, reward, done,trunc, _info = env.step(action)  # Perform a step\n",
    "            total_reward += reward  # Accumulate rewards\n",
    "\n",
    "            if done:  # Check if the episode is done\n",
    "                break\n",
    "\n",
    "        print(f\"Episode {episode + 1}: Total Reward = {total_reward}\")\n",
    "        episode_scores.append(total_reward)\n",
    "\n",
    "    return episode_scores\n",
    "\n",
    "# Execute the function to test the model\n",
    "scores = test_scores()"
   ]
  },
  {
   "cell_type": "code",
   "execution_count": null,
   "metadata": {},
   "outputs": [],
   "source": []
  }
 ],
 "metadata": {
  "kernelspec": {
   "display_name": ".venv",
   "language": "python",
   "name": "python3"
  },
  "language_info": {
   "codemirror_mode": {
    "name": "ipython",
    "version": 3
   },
   "file_extension": ".py",
   "mimetype": "text/x-python",
   "name": "python",
   "nbconvert_exporter": "python",
   "pygments_lexer": "ipython3",
   "version": "3.9.7"
  }
 },
 "nbformat": 4,
 "nbformat_minor": 2
}
